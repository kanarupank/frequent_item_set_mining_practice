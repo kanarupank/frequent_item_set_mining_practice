{
 "cells": [
  {
   "cell_type": "code",
   "execution_count": 1,
   "metadata": {},
   "outputs": [],
   "source": [
    "#common imports\n",
    "import time\n",
    "import pandas as pd"
   ]
  },
  {
   "cell_type": "code",
   "execution_count": 3,
   "metadata": {},
   "outputs": [],
   "source": [
    "#APRIORI\n",
    "\n",
    "#installed apyori\n",
    "from apyori import apriori\n",
    "\n",
    "def apriori_func(dataset,min_support):\n",
    "    start = time.process_time()\n",
    "    association_rules = apriori(dataset, min_support=min_support/100)\n",
    "    elapsed_time_secs = time.time() - start\n",
    "    return elapsed_time_secs\n",
    "\n",
    "\n",
    "\n",
    "#Ariori for T10I4D100K.dat\n",
    "T10I4D100K = [i.strip().split() for i in open(\"T10I4D100K.dat\").readlines()]\n",
    "#T10I4D100K - 0.3%, 0.5%, 1%, 1.5%, 2%, 2.5%, and 3%\n",
    "T10I4D100K_relative_support_list=[0.3,0.5,1,1.5,2,2.5,3]\n",
    "T10I4D100K_apriori_time=[apriori_func(T10I4D100K, i) for i in T10I4D100K_relative_support_list]\n",
    "\n",
    "#create dataframe and write to csv\n",
    "T10I4D100K_apriori=pd.DataFrame()\n",
    "T10I4D100K_apriori[\"relative_support\"]=T10I4D100K_relative_support_list\n",
    "T10I4D100K_apriori['elapsed_time']=T10I4D100K_apriori_time\n",
    "\n",
    "T10I4D100K_apriori.to_csv(\"T10I4D100K_apriori_timings.csv\",index=False)\n",
    "\n",
    "\n",
    "\n",
    "#Ariori for T40I10D100K.dat\n",
    "T40I10D100K=[i.strip().split() for i in open(\"T40I10D100K.dat\").readlines()]\n",
    "\n",
    "#T40I10D100K - 0.3%, 0.5%, 1%, 1.5%, 2%, 2.5%, and 3%\n",
    "T10I4D100K_relative_support_list=[0.3,0.5,1,1.5,2,2.5,3]\n",
    "\n",
    "T40I10D100K_apriori_time=[apriori_func(T40I10D100K, i) for i in T10I4D100K_relative_support_list]\n",
    "\n",
    "#create dataframe and write to csv\n",
    "T40I10D100K_apriori=pd.DataFrame()\n",
    "T40I10D100K_apriori[\"relative_support\"]=T10I4D100K_relative_support_list\n",
    "T40I10D100K_apriori['elapsed_time']=T10I4D100K_apriori_time\n",
    "\n",
    "T40I10D100K_apriori.to_csv(\"T40I10D100K_apriori_timings.csv\",index=False)\n",
    "\n",
    "\n",
    "\n",
    "#Apriori for mushroom\n",
    "mushroom=[i.strip().split() for i in open(\"mushroom.dat\").readlines()]\n",
    "\n",
    "#Mushroom - 4%, 7%, 10%, 13%, 16%, 20%\n",
    "mushroom_relative_support_list=[4,7,10,13,16,20]\n",
    "mushroom_apriori_time=[apriori_func(mushroom, i) for i in mushroom_relative_support_list]\n",
    "\n",
    "#create dataframe and write to csv\n",
    "mushroom_apriori=pd.DataFrame()\n",
    "mushroom_apriori[\"relative_support\"]=mushroom_relative_support_list\n",
    "mushroom_apriori['elapsed_time']=mushroom_apriori_time\n",
    "mushroom_apriori.to_csv(\"mushroom_apriori_timings.csv\",index=False)"
   ]
  },
  {
   "cell_type": "code",
   "execution_count": null,
   "metadata": {},
   "outputs": [
    {
     "name": "stdout",
     "output_type": "stream",
     "text": [
      "hi\n"
     ]
    }
   ],
   "source": [
    "#ECLAT\n",
    "\n",
    "#install pyECLAT\n",
    "from pyECLAT import ECLAT\n",
    "\n",
    "#define eclat function\n",
    "def eclat_func(dataset,min_support):\n",
    "    eclat_instance = ECLAT(data=dataset, verbose=False)\n",
    "    start = time.process_time()\n",
    "    get_ECLAT_indexes, get_ECLAT_supports = eclat_instance.fit(min_support=min_support,verbose=False,min_combination=1,\n",
    "                                                           max_combination=2)\n",
    "    elapsed_time_secs = time.time() - start\n",
    "    return elapsed_time_secs\n",
    "\n",
    "\n",
    "\n",
    "\n",
    "#ECLAT for T10I4D100K.dat\n",
    "T10I4D100K = [i.strip().split() for i in open(\"T10I4D100K.dat\").readlines()]\n",
    "T10I4D100K=pd.DataFrame(T10I4D100K)\n",
    "for i in range(len(T10I4D100K.columns)):\n",
    "    T10I4D100K[i]=T10I4D100K[i].astype(str)+\"_item\"\n",
    "    T10I4D100K[i].replace(\"None_item\",\"None\",inplace=True)\n",
    "print('hi')   \n",
    "#T10I4D100K - 0.3%, 0.5%, 1%, 1.5%, 2%, 2.5%, and 3%\n",
    "T10I4D100K_relative_support_list=[0.3] #,0.5,1,1.5,2,2.5,3\n",
    "T10I4D100K_eclat_time=[eclat_func(T10I4D100K, i) for i in T10I4D100K_relative_support_list]\n",
    "\n",
    "\n",
    "\n"
   ]
  },
  {
   "cell_type": "code",
   "execution_count": null,
   "metadata": {},
   "outputs": [],
   "source": [
    "#create dataframe and write to csv\n",
    "T10I4D100K_eclat=pd.DataFrame()\n",
    "T10I4D100K_eclat[\"relative_support\"]=T10I4D100K_relative_support_list\n",
    "T10I4D100K_eclat['elapsed_time']=T10I4D100K_eclat_time\n",
    "T10I4D100K_eclat.to_csv(\"T10I4D100K_eclat_timings.csv\",index=False)\n",
    "\n",
    "#ECLAT for T40I10D100K.dat\n",
    "T40I10D100K=[i.strip().split() for i in open(\"T40I10D100K.dat\").readlines()]\n",
    "T40I10D100K=pd.DataFrame(T40I10D100K)\n",
    "for i in range(len(T40I10D100K.columns)):\n",
    "    T40I10D100K[i]=T40I10D100K[i].astype(str)+\"_item\"\n",
    "    T40I10D100K[i].replace(\"None_item\",\"None\",inplace=True)\n",
    "    \n",
    "#T40I10D100K - 0.3%, 0.5%, 1%, 1.5%, 2%, 2.5%, and 3%\n",
    "T40I10D100K_relative_support_list=[0.3,0.5,1,1.5,2,2.5,3]\n",
    "T40I10D100K_eclat_elasped_time=[eclat_func(T40I10D100K, i) for i in T40I10D100K_relative_support_list]\n",
    "T40I10D100K_eclat=pd.DataFrame()\n",
    "T40I10D100K_eclat[\"relative_support\"]=T40I10D100K_relative_support\n",
    "T40I10D100K_eclat['elapsed_time']=T40I10D100K_eclat_elasped_time\n",
    "T40I10D100K_eclat.to_csv(\"T40I10D100K_eclat_timings.csv\",index=False)\n",
    "\n",
    "\n",
    "\n",
    "#ECLAT for mushroom.dat\n",
    "mushroom=[i.strip().split() for i in open(\"mushroom.dat\").readlines()]\n",
    "mushroom=pd.DataFrame(mushroom)\n",
    "for i in range(len(mushroom.columns)):\n",
    "    mushroom[i]=mushroom[i].astype(str)+\"_item\"\n",
    "    mushroom[i].replace(\"None_item\",\"None\",inplace=True)\n",
    "mushroom_relative_support=[4,7,10,13,16,20]\n",
    "mushroom_eclat_time=[eclat_function(mushroom, i) for i in mushroom_relative_support]\n",
    "\n",
    "mushroom_eclat=pd.DataFrame()\n",
    "mushroom_eclat[\"relative_support\"]=mushroom_relative_support\n",
    "mushroom_eclat['elapsed_time']=mushroom_eclat_time\n",
    "mushroom_eclat.to_csv(\"mushroom_eclat_timings.csv\",index=False)"
   ]
  },
  {
   "cell_type": "code",
   "execution_count": null,
   "metadata": {},
   "outputs": [],
   "source": [
    "#FPGROWTH\n",
    "#install mlxtend\n",
    "from mlxtend.preprocessing import TransactionEncoder\n",
    "from mlxtend.frequent_patterns import fpgrowth\n",
    "def fp_growth_func(dataset,min_support):\n",
    "    te = TransactionEncoder()\n",
    "    te_ary = te.fit(dataset).transform(dataset)\n",
    "    df = pd.DataFrame(te_ary, columns=te.columns_)\n",
    "    start = time.process_time()\n",
    "    fpgrowth(df, min_support=min_support/100, use_colnames=True)\n",
    "    elapsed_time_secs = time.time() - start\n",
    "    return elapsed_time_secs\n",
    "\n",
    "\n",
    "#FPGROWTH for T40I10D100K.dat\n",
    "T40I10D100K=[i.strip().split() for i in open(\"T40I10D100K.dat\").readlines()]\n",
    "#T40I10D100K - 0.3%, 0.5%, 1%, 1.5%, 2%, 2.5%, and 3%\n",
    "T40I10D100K_relative_support_list=[0.3] #,0.5,1,1.5,2,2.5,3\n",
    "T40I10D100K_fpgrowth_time=[fp_growth_func(T40I10D100K, i) for i in T40I10D100K_relative_support_list]\n",
    "T40I10D100K_fpgrowth=pd.DataFrame()\n",
    "T40I10D100K_fpgrowth[\"relative_support\"]=T40I10D100K_relative_support_list\n",
    "T40I10D100K_fpgrowth['elapsed_time']=T40I10D100K_fpgrowth_time\n",
    "T40I10D100K_fpgrowth.to_csv(\"T40I10D100K_fpgrowth_timings.csv\",index=False)\n",
    "\n",
    "\n"
   ]
  },
  {
   "cell_type": "code",
   "execution_count": null,
   "metadata": {},
   "outputs": [],
   "source": [
    "#FPGROWTH for T10I4D100K.dat\n",
    "T10I4D100K = [i.strip().split() for i in open(\"T10I4D100K.dat\").readlines()]\n",
    "#T10I4D100K - 0.3%, 0.5%, 1%, 1.5%, 2%, 2.5%, and 3%\n",
    "T10I4D100K_relative_support=[0.3,0.5,1,1.5,2,2.5,3] \n",
    "\n",
    "T10I4D100K_fpgrowth_time=[fp_growth_func(T10I4D100K, i) for i in T10I4D100K_relative_support]\n",
    "T10I4D100K = [i.strip().split() for i in open(\"T10I4D100K.dat\").readlines()]\n",
    "\n",
    "T10I4D100K_fpgrowth=pd.DataFrame()\n",
    "T10I4D100K_fpgrowth[\"relative_support\"]=T10I4D100K_relative_support\n",
    "T10I4D100K_fpgrowth['elapsed_time']=T10I4D100K_fpgrowth_time\n",
    "T10I4D100K_fpgrowth.to_csv(\"T10I4D100K_fpgrowth_timings.csv\",index=False)\n",
    "\n",
    "#FPGROWTH for T40I10D100K.dat\n",
    "T40I10D100K=[i.strip().split() for i in open(\"T40I10D100K.dat\").readlines()]\n",
    "#T40I10D100K - 0.3%, 0.5%, 1%, 1.5%, 2%, 2.5%, and 3%\n",
    "T40I10D100K_relative_support_list=[0.3,0.5,1,1.5,2,2.5,3]\n",
    "T40I10D100K_fpgrowth_time=[fp_growth_func(T40I10D100K, i) for i in T40I10D100K_relative_support_list]\n",
    "T40I10D100K_fpgrowth=pd.DataFrame()\n",
    "T40I10D100K_fpgrowth[\"relative_support\"]=T40I10D100K_relative_support_list\n",
    "T40I10D100K_fpgrowth['elapsed_time']=T40I10D100K_fpgrowth_time\n",
    "T40I10D100K_fpgrowth.to_csv(\"T40I10D100K_fpgrowth_timings.csv\",index=False)\n",
    "\n",
    "\n",
    "\n",
    "#FPGROWTH for mushroom.dat\n",
    "mushroom=[i.strip().split() for i in open(\"mushroom.dat\").readlines()]\n",
    "#Mushroom - 4%, 7%, 10%, 13%, 16%, 20%\n",
    "mushroom_relative_support_list=[4,7,10,13,16,20]\n",
    "mushroom_fpgrowth_time=[fp_growth_func(mushroom, i) for i in mushroom_relative_support_list]\n",
    "mushroom_fpgrowth=pd.DataFrame()\n",
    "mushroom_fpgrowth[\"relative_support\"]=mushroom_relative_support_list\n",
    "mushroom_fpgrowth['elapsed_time']=mushroom_fpgrowth_time\n",
    "mushroom_fpgrowth.to_csv(\"mushroom_fpgrowth_timings.csv\",index=False)"
   ]
  },
  {
   "cell_type": "code",
   "execution_count": 6,
   "metadata": {},
   "outputs": [
    {
     "data": {
      "image/png": "[encoded data removed]",
      "text/plain": [
       "<Figure size 432x288 with 1 Axes>"
      ]
     },
     "metadata": {
      "needs_background": "light"
     },
     "output_type": "display_data"
    },
    {
     "data": {
      "image/png": "[encoded data removed]",
      "text/plain": [
       "<Figure size 432x288 with 1 Axes>"
      ]
     },
     "metadata": {
      "needs_background": "light"
     },
     "output_type": "display_data"
    },
    {
     "data": {
      "image/png": "[encoded data removed]",
      "text/plain": [
       "<Figure size 432x288 with 1 Axes>"
      ]
     },
     "metadata": {
      "needs_background": "light"
     },
     "output_type": "display_data"
    }
   ],
   "source": [
    "#PLOTS of Elapsed times - compare the Frequent item set algorithms\n",
    "\n",
    "import matplotlib.pyplot as plt\n",
    "import warnings\n",
    "import numpy as np\n",
    "warnings.filterwarnings(\"ignore\")\n",
    "\n",
    "#Load rerequired/relevant files\n",
    "T10I4D100K_apriori=pd.read_csv(\"T10I4D100K_apriori_timings.csv\")\n",
    "T10I4D100K_eclat=pd.read_csv(\"T10I4D100K_eclat_timings.csv\")\n",
    "T10I4D100K_fpgrowth=pd.read_csv(\"T10I4D100K_fpgrowth_timings.csv\")\n",
    "T40I10D100K_apriori=pd.read_csv(\"T40I10D100K_apriori_timings.csv\")\n",
    "T40I10D100K_eclat=pd.read_csv(\"T40I10D100K_eclat_timings.csv\")\n",
    "T40I10D100K_fpgrowth=pd.read_csv(\"T40I10D100K_fpgrowth_timings.csv\")\n",
    "mushroom_apriori=pd.read_csv(\"mushroom_apriori_timings.csv\")\n",
    "mushroom_eclat=pd.read_csv(\"mushroom_eclat_timings.csv\")\n",
    "mushroom_fpgrowth=pd.read_csv(\"mushroom_fpgrowth_timings.csv\")\n",
    "\n",
    "def plot_func(df_apriori, df_eclat, df_fpgrowth, data):\n",
    "    plt.plot(df_apriori[\"relative_support\"], np.log(df_apriori[\"elapsed_time\"]), label = \"APRIORI\")\n",
    "    plt.plot(df_eclat[\"relative_support\"], np.log(df_eclat[\"elapsed_time\"]), label = \"ECLAT\")\n",
    "    plt.plot(df_fpgrowth[\"relative_support\"], np.log(df_fpgrowth[\"elapsed_time\"]), label = \"FPGROWTH\")\n",
    "    plt.title(\"Elapsed time of \"+ data)\n",
    "    plt.legend(loc=\"upper left\")\n",
    "    plt.show()\n",
    "\n",
    "\n",
    "\n",
    "plot_func(T10I4D100K_apriori, T10I4D100K_eclat, T10I4D100K_fpgrowth, 'T10I4D100K'  )\n",
    "plot_func(T40I10D100K_apriori, T40I10D100K_eclat, T40I10D100K_fpgrowth, 'T40I10D100K'  )\n",
    "plot_func(mushroom_apriori, mushroom_eclat, mushroom_fpgrowth, 'mushroom'  )\n"
   ]
  }
 ],
 "metadata": {
  "kernelspec": {
   "display_name": "Python 3",
   "language": "python",
   "name": "python3"
  },
  "language_info": {
   "codemirror_mode": {
    "name": "ipython",
    "version": 3
   },
   "file_extension": ".py",
   "mimetype": "text/x-python",
   "name": "python",
   "nbconvert_exporter": "python",
   "pygments_lexer": "ipython3",
   "version": "3.8.5"
  }
 },
 "nbformat": 4,
 "nbformat_minor": 4
}
