{
 "cells": [
  {
   "cell_type": "code",
   "execution_count": 1,
   "metadata": {},
   "outputs": [],
   "source": [
    "import time\n",
    "import pandas as pd\n",
    "#installed apyori\n",
    "from apyori import apriori"
   ]
  },
  {
   "cell_type": "code",
   "execution_count": 2,
   "metadata": {},
   "outputs": [],
   "source": [
    "def apriori_func(dataset,min_support):\n",
    "    start = time.process_time()\n",
    "    association_rules = apriori(dataset, min_support=min_support/100)\n",
    "    elapsed_time_secs = time.time() - start\n",
    "    return elapsed_time_secs"
   ]
  },
  {
   "cell_type": "code",
   "execution_count": 5,
   "metadata": {},
   "outputs": [],
   "source": [
    "#Ariori for T10I4D100K.dat\n",
    "T10I4D100K = [i.strip().split() for i in open(\"T10I4D100K.dat\").readlines()]\n",
    "#T10I4D100K - 0.3%, 0.5%, 1%, 1.5%, 2%, 2.5%, and 3%\n",
    "T10I4D100K_relative_support_list=[0.3,0.5,1,1.5,2,2.5,3]\n",
    "T10I4D100K_apriori_time=[apriori_func(T10I4D100K, i) for i in T10I4D100K_relative_support_list]\n",
    "\n",
    "#create dataframe and write to csv\n",
    "T10I4D100K_apriori=pd.DataFrame()\n",
    "T10I4D100K_apriori[\"relative_support\"]=T10I4D100K_relative_support_list\n",
    "T10I4D100K_apriori['elapsed_time']=T10I4D100K_apriori_time\n",
    "\n",
    "T10I4D100K_apriori.to_csv(\"T10I4D100K_apriori_timings.csv\",index=False)\n"
   ]
  },
  {
   "cell_type": "code",
   "execution_count": 6,
   "metadata": {},
   "outputs": [],
   "source": [
    "#Ariori for T40I10D100K.dat\n",
    "T40I10D100K=[i.strip().split() for i in open(\"T40I10D100K.dat\").readlines()]\n",
    "\n",
    "#T40I10D100K - 0.3%, 0.5%, 1%, 1.5%, 2%, 2.5%, and 3%\n",
    "T10I4D100K_relative_support_list=[0.3,0.5,1,1.5,2,2.5,3]\n",
    "\n",
    "T40I10D100K_apriori_time=[apriori_func(T40I10D100K, i) for i in T10I4D100K_relative_support_list]\n",
    "\n",
    "#create dataframe and write to csv\n",
    "T40I10D100K_apriori=pd.DataFrame()\n",
    "T40I10D100K_apriori[\"relative_support\"]=T10I4D100K_relative_support_list\n",
    "T40I10D100K_apriori['elapsed_time']=T10I4D100K_apriori_time\n",
    "\n",
    "T40I10D100K_apriori.to_csv(\"T40I10D100K_apriori_timings.csv\",index=False)\n"
   ]
  },
  {
   "cell_type": "code",
   "execution_count": 8,
   "metadata": {},
   "outputs": [],
   "source": [
    "#Apriori for mushroom\n",
    "mushroom=[i.strip().split() for i in open(\"mushroom.dat\").readlines()]\n",
    "\n",
    "#Mushroom - 4%, 7%, 10%, 13%, \n",
    "mushroom_relative_support_list=[4,7,10,13,16,20]\n",
    "mushroom_apriori_time=[apriori_func(mushroom, i) for i in mushroom_relative_support_list]\n",
    "\n",
    "#create dataframe and write to csv\n",
    "mushroom_apriori=pd.DataFrame()\n",
    "mushroom_apriori[\"relative_support\"]=mushroom_relative_support_list\n",
    "mushroom_apriori['elapsed_time']=mushroom_apriori_time\n",
    "mushroom_apriori.to_csv(\"mushroom_apriori_timings.csv\",index=False)\n"
   ]
  }
 ],
 "metadata": {
  "kernelspec": {
   "display_name": "Python 3",
   "language": "python",
   "name": "python3"
  },
  "language_info": {
   "codemirror_mode": {
    "name": "ipython",
    "version": 3
   },
   "file_extension": ".py",
   "mimetype": "text/x-python",
   "name": "python",
   "nbconvert_exporter": "python",
   "pygments_lexer": "ipython3",
   "version": "3.8.5"
  }
 },
 "nbformat": 4,
 "nbformat_minor": 4
}
